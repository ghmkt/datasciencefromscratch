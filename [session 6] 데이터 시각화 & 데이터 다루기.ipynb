{
 "cells": [
  {
   "cell_type": "code",
   "execution_count": 4,
   "metadata": {
    "collapsed": true
   },
   "outputs": [],
   "source": [
    "infile = open('C:\\내꺼\\Growth Hackers\\세션\\[session 06] 데이터 시각화 & 데이터 다루기\\HR_comma_sep.csv', 'r')\n",
    "f = infile.readlines()\n",
    "dept = []\n",
    "for line in f:\n",
    "    new = line.split(',' )[8]\n",
    "    dept.append(new)\n",
    "del dept[0]"
   ]
  },
  {
   "cell_type": "code",
   "execution_count": 5,
   "metadata": {},
   "outputs": [
    {
     "name": "stdout",
     "output_type": "stream",
     "text": [
      "['sales', 'accounting', 'hr', 'technical', 'support', 'management', 'IT', 'product_mng', 'marketing', 'RandD']\n",
      "[4140, 767, 739, 2720, 2229, 630, 1227, 902, 858, 787]\n"
     ]
    }
   ],
   "source": [
    "from collections import Counter\n",
    "\n",
    "num_dept = Counter(dept)\n",
    "dept_keys = list(num_dept.keys())\n",
    "dept_values = list(num_dept.values())\n",
    "print(dept_keys)\n",
    "print(dept_values)"
   ]
  },
  {
   "cell_type": "code",
   "execution_count": 6,
   "metadata": {},
   "outputs": [
    {
     "data": {
      "image/png": "[encoded data removed]",
      "text/plain": [
       "<matplotlib.figure.Figure at 0x52ceb00>"
      ]
     },
     "metadata": {},
     "output_type": "display_data"
    }
   ],
   "source": [
    "from matplotlib import pyplot as plt\n",
    "\n",
    "#Bar Chart\n",
    "\n",
    "objects = dept_keys\n",
    "x = [i+0.3 for i, _ in enumerate(dept_keys)]\n",
    "freq = dept_values\n",
    "plt.bar(x, freq, 0.5)\n",
    "plt.xticks(x, objects)\n",
    "plt.title('Departments')\n",
    "plt.xlabel(\"Departments\")\n",
    "plt.ylabel(\"The number of people\")\n",
    "plt.show()"
   ]
  },
  {
   "cell_type": "code",
   "execution_count": 7,
   "metadata": {},
   "outputs": [
    {
     "data": {
      "image/png": "[encoded data removed]",
      "text/plain": [
       "<matplotlib.figure.Figure at 0x81f4828>"
      ]
     },
     "metadata": {},
     "output_type": "display_data"
    }
   ],
   "source": [
    "#Histogram\n",
    "\n",
    "avg_m_hrs = []\n",
    "for line in f[1:]:\n",
    "    new = int(line.split(',')[3])\n",
    "    avg_m_hrs.append(new)\n",
    "\n",
    "decile = lambda a : a // 10 * 10\n",
    "hist = Counter(decile(a) for a in avg_m_hrs)\n",
    "hist_keys = list(hist.keys())\n",
    "hist_values = list(hist.values())\n",
    "\n",
    "plt.bar(hist_keys, hist_values, 3)\n",
    "plt.show()"
   ]
  }
 ],
 "metadata": {
  "kernelspec": {
   "display_name": "Python 3",
   "language": "python",
   "name": "python3"
  },
  "language_info": {
   "codemirror_mode": {
    "name": "ipython",
    "version": 3
   },
   "file_extension": ".py",
   "mimetype": "text/x-python",
   "name": "python",
   "nbconvert_exporter": "python",
   "pygments_lexer": "ipython3",
   "version": "3.6.1"
  }
 },
 "nbformat": 4,
 "nbformat_minor": 2
}
