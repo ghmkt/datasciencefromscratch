{
 "cells": [
  {
   "cell_type": "code",
   "execution_count": 1,
   "metadata": {
    "collapsed": true
   },
   "outputs": [],
   "source": [
    "import sys, re\n",
    "regex = sys.argv[1]\n",
    "for line in sys.stdin:\n",
    "    if re.search(regex, line):\n",
    "        sys.stdout.write(line)\n"
   ]
  },
  {
   "cell_type": "code",
   "execution_count": 2,
   "metadata": {},
   "outputs": [
    {
     "name": "stdout",
     "output_type": "stream",
     "text": [
      "[<h3 class=\"fluff-post-title\">Area Cat Saddened by Lack of New Fluffington Post Articles</h3>, <h3 class=\"fluff-post-title\">Puppy Seeks Zoning Variance for Oddly Sited Box Fort</h3>, <h3 class=\"fluff-post-title\">Kitten Regrets Ignoring Order Not to Climb on Couch</h3>, <h3 class=\"fluff-post-title\">Day 17: Mittens Finally Makes It to Basecamp</h3>, <h3 class=\"fluff-post-title\">Move Over, GPS: This Sheep Is a Professional Backseat Driver</h3>, <h3 class=\"fluff-post-title\">Patrick Stewart Goes Full Method for Latest Role as Puppy</h3>, <h3 class=\"fluff-post-title\">Wikileaks Document Dump Reveals Secret CIA Raccoon Spy Program</h3>, <h3 class=\"fluff-post-title\">PHOTO OP: Nap Time</h3>, <h3 class=\"fluff-post-title\">CEO Caught Tweeting, Napping During Earnings Call</h3>]\n",
      "Headlines 1-2: \n",
      "Area Cat Saddened by Lack of New Fluffington Post Articles\n",
      "Puppy Seeks Zoning Variance for Oddly Sited Box Fort\n",
      "Kitten Regrets Ignoring Order Not to Climb on Couch\n",
      "Day 17: Mittens Finally Makes It to Basecamp\n",
      "Move Over, GPS: This Sheep Is a Professional Backseat Driver\n",
      "Patrick Stewart Goes Full Method for Latest Role as Puppy\n",
      "Wikileaks Document Dump Reveals Secret CIA Raccoon Spy Program\n",
      "PHOTO OP: Nap Time\n",
      "CEO Caught Tweeting, Napping During Earnings Call\n",
      "\n",
      "\n"
     ]
    }
   ],
   "source": [
    "from bs4 import BeautifulSoup\n",
    "import requests\n",
    "\n",
    "#http\n",
    "url = \"http://thefluffingtonpost.com\"\n",
    "r = requests.get(url)\n",
    "\n",
    "cute = BeautifulSoup(r.content, \"html5lib\")\n",
    "\n",
    "heads = cute.findAll(\"h3\", {\"class\" : \"fluff-post-title\"})\n",
    "print(heads)\n",
    "\n",
    "print(\"Headlines 1-2: \")\n",
    "for head in heads:\n",
    "    print(head.text)\n",
    "print(\"\\n\")"
   ]
  },
  {
   "cell_type": "code",
   "execution_count": 3,
   "metadata": {},
   "outputs": [
    {
     "name": "stdout",
     "output_type": "stream",
     "text": [
      "Paragraphs: \n",
      "A local cat is reportedly experiencing a sense of deep ennui over the lack of new articles in The Fluffington Post. Friends say the cat, Honey, has been moping around the house, mewling plaintively since the website stopped putting up regular updates.\n",
      "“It was her favorite website,” said the cat’s friend and confidant Millicent Darby. “She subscribed to their Facebook, their Twitter, she had the t-shirt, and her litter box was decorated with printouts of her favorite stories. But a few months ago they seemed to just stop publishing abruptly.”\n",
      "Industry insiders said the abrupt end to new The Fluffington Post content was a mystery. \n",
      "“No one’s really sure what’s going on,” said Poynter news analyst Walter Thibodeau. “They appeared to be well capitalized and they pretty much owned the pet satire beat, but then they disappeared.”\n",
      "Editors at The Fluffington Post could not be reached for comment.\n",
      "Via This_Is_Not_Butter.\n",
      "Caroline the dog finds herself in the midst of a heated zoning dispute with roommates who argue the pup’s new box fort violates several city ordinances.\n",
      "According to representatives for the dog, Caroline will seek a variance from schedule of intensity requirements that mandate a two foot buffer for all units built near a stove. Roommates argue that’s not the only issue facing the dog’s oddly sited construction.\n",
      "“I mean, leaving aside the fact that she doesn’t actually own the property in the kitchen that she built on – she’s a renter,” said Stella Feingold, lawyer for the roommates, “and that she didn’t pull any of the required building permits, she’s also in violation of accessory dwelling unit codes.”\n",
      "According to the city’s zoning ordinance, accessory dwelling units must include a stove and bathroom inside the unit, not adjacent. \n",
      "“Also,” continued Feingold, “it’s a cardboard box. That’s not a proper building material for this sort of structure. The whole thing is a safety hazard.”\n",
      "The city’s zoning board meets on Tuesday and Caroline’s case is a docketed item.\n",
      "Via objectiveankles.\n",
      "A case of instant regret has hit Otto, a kitten from Grand Forks, ND, who defied his mom’s order not to climb on the couch. Sources close to the situation tell The Fluffington Post that Otto was repeatedly told not to climb on the furniture, including the couch.\n",
      "“He’s been in this sort of situation before, though not so dire,” said neighbor Tobias Thrush. “One time he got stuck in a fruit bowl on the dining room table, and another time he climbed up to the third level of a bookshelf and couldn’t figure out how to get down.”\n",
      "Otto was discovered in the couch by his roommate at 8:21AM local time and the fire department was called. He was freed shortly after nine o’clock, and is resting comfortably (not on the couch).\n",
      "Via RespectMyAuthoriteh.\n",
      "According to a post to her Instagram page, intrepid explorer cat Mittens has apparently made it to basecamp alpha at the foot of the couch. She embarked on the climb from the kitchen a couple of weeks ago and has been documenting the journey on social media. \n",
      "Her post read:\n",
      "“Finally made it. The view is incredible. Air is thin. #basecamp #climbing #adventure #catlife #aventurecat #kittyklimb #explore #neverstopexploring #lifeisgood #views #goals #elevation #exploreclub #catswhoclimb #goforit #keepclimbing #tentlife #lovelife #inspiration #intothinair #meow #catsofinstagram #climbersofinstagram #adventuresociety #hiking #hike #getout #getlost #goexploring #amazing #keepgoing #sportoflife #tabbytime #wilderness #intothewild #livefortheweekend #awesome”She hopes to summit the couch later this week.\n",
      "Via ieatcottagecheese.\n",
      "In the gig economy, Uber, Lyft and TaskRabbit are ubiquitous brands. But Flock is trotting up on their heels. And a few enterprising sheep have been able to make a living as freelance backseat drivers.\n",
      "“Let’s say you forgot your car GPS,” says Henry Erstwhile, a spokesperson for the up-and-coming app. “Just open Flock and find a sheep near you who can hop into the back seat. Tell her where you’re headed and she’ll bleat the way.” One “baa” for a right turn, two “baas” for a left.\n",
      "It may seem a little counter-intuitive at first. If you have your smartphone in hand, why not use a navigation app rather than go to the trouble of loading a sheep into your car?\n",
      "“Admittedly there are still a few kinks to work out,” says Erstwhile. “We’re hiring more engineers.”\n",
      "Industry analysts estimate Flock is already worth $12 billion.\n",
      "via Jamie Baldanza.\n",
      "Sir Patrick Stewart, one of the greatest actors of his (or any) generation, has done it again. The beloved actor’s latest film, Bark, which premieres at SXSW in Austin, TX next week, might be he toughest role yet. And it also may be his greatest performance.\n",
      "Stewart stars as Rex, a down-on-his-luck puppy from the rough London neighborhood of Brixton who develops super powers. The film is already generating a lot of industry buzz.\n",
      "“The man is a chameleon,” said producer Alison Jordan at a press junket ahead of the film’s premiere. “There were times he’d be sitting next to me, and I’d literally reach to scratch his belly. That’s how convincing he is.” \n",
      "According to a report in Variety, Stewart fully committed to the role of Rex. He lost 50 pounds, ate nothing but kibble and Snausages, and slept at the foot of the bed for three months during principle photography.\n",
      "The film will be distributed by Universal Pictures and goes wide on May 19.\n",
      "Via Findthe.\n",
      "Wikileaks has released a trove of documents containing details of CIA hacking tools and surveillance initiatives, among them, a top secret domestic spy program code named RocketEars, that enlists raccoons as listeners.\n",
      "Security experts and journalists have been poring over the cache of leaked documents, collectively known as “Vault 7,” since Tuesday. Many explain security exploits used in consumer electronics like iPhones and Samsung TVs, which can be used to spy on targets. But the raccoon program is particularly strange.\n",
      "“No one would ever suspect the raccoon rummaging through your backyard trash is working for the CIA,” says Dennis O’Conner, a security analyst and former consultant to the U.S. intelligence services. “It’s a perfect secret program. But what we don’t understand yet is how the raccoons communicate their surveillance back to base. They’re not the most reliable reporters.”\n",
      "The Fluffington Post will update this story as it develops.\n",
      "via Marslettuce\n",
      "via @meanegirl__\n",
      "During the company’s earnings call on Thursday, WoofCo, Inc. CEO Rocky was observed paying little attention to the public conglomerate’s financials, and instead laughing at videos in his Twitter feed.\n",
      "Two WoofCo interns, who declined to be identified for fear of retribution, photographed Rocky browsing Twitter and snoozing while shareholders and media listened eagerly to the Q4 report, led by the company’s CFO, Paddington.\n",
      "“These photographs have no bearing on Rocky’s unwavering commitment to WoofCo, its financial health, and corporate transparency,” said Randall Cogsworth, a PR representative for WoofCo, in a statement. “Everyone gets tired and everyone needs to blow off steam every now and then, and our leadership team is no different.”\n",
      "via @rockyandbow\n",
      "\n",
      "\n"
     ]
    }
   ],
   "source": [
    "pmultiple = cute.findAll(\"p\")\n",
    "\n",
    "print(\"Paragraphs: \")\n",
    "for psingle in pmultiple:\n",
    "    print(psingle.text)\n",
    "print(\"\\n\")"
   ]
  },
  {
   "cell_type": "code",
   "execution_count": 4,
   "metadata": {},
   "outputs": [
    {
     "name": "stdout",
     "output_type": "stream",
     "text": [
      "Tags 1-1: \n",
      "cute\n",
      "puppies\n",
      "dogs\n",
      "animals\n",
      "refluffs\n",
      "cute\n",
      "kitties\n",
      "cats\n",
      "refluffs\n",
      "animals\n",
      "cute\n",
      "kitties\n",
      "cats\n",
      "refluffs\n",
      "animals\n",
      "sheep\n",
      "animals\n",
      "cute\n",
      "refluffs\n",
      "cute\n",
      "puppies\n",
      "dogs\n",
      "refluffs\n",
      "animals\n",
      "racoon\n",
      "animals\n",
      "cute\n",
      "funny\n",
      "refluffs\n",
      "puppies\n",
      "dogs\n",
      "animals\n",
      "cute\n",
      "refluffs\n",
      "puppies\n",
      "dogs\n",
      "animals\n",
      "cute\n",
      "refluffs\n",
      "\n",
      "\n",
      "cute\n",
      "puppies\n",
      "dogs\n",
      "animals\n",
      "refluffs\n",
      "cute\n",
      "kitties\n",
      "cats\n",
      "refluffs\n",
      "animals\n",
      "cute\n",
      "kitties\n",
      "cats\n",
      "refluffs\n",
      "animals\n",
      "sheep\n",
      "animals\n",
      "cute\n",
      "refluffs\n",
      "cute\n",
      "puppies\n",
      "dogs\n",
      "refluffs\n",
      "animals\n",
      "racoon\n",
      "animals\n",
      "cute\n",
      "funny\n",
      "refluffs\n",
      "puppies\n",
      "dogs\n",
      "animals\n",
      "cute\n",
      "refluffs\n",
      "puppies\n",
      "dogs\n",
      "animals\n",
      "cute\n",
      "refluffs\n"
     ]
    }
   ],
   "source": [
    "#tags\n",
    "#1-1\n",
    "div_tags = cute.findAll(\"div\", {\"class\": \"post-tags\"})\n",
    "print(\"Tags 1-1: \")\n",
    "for t in div_tags:\n",
    "    for aTag in t.findAll('a', href=True):\n",
    "        tags = aTag.get('href')\n",
    "        print(tags[37:])\n",
    "print(\"\\n\")\n",
    "\n",
    "#1-2\n",
    "#using select method which takes a CSS selector, JQuery\n",
    "for a in cute.select('div.post-tags a[href]'):\n",
    "    tags = a['href']\n",
    "    print(tags[37:])"
   ]
  },
  {
   "cell_type": "code",
   "execution_count": 5,
   "metadata": {
    "collapsed": true
   },
   "outputs": [],
   "source": [
    "import json, requests\n",
    "\n",
    "endpoint = \"https://api.github.com/users/joelgrus/repos\"\n",
    "repos = json.loads(requests.get(endpoint).text)"
   ]
  },
  {
   "cell_type": "code",
   "execution_count": 6,
   "metadata": {},
   "outputs": [
    {
     "name": "stdout",
     "output_type": "stream",
     "text": [
      "month: {12: 2, 7: 7, 5: 4, 11: 5, 9: 1, 6: 1, 8: 2, 4: 1, 1: 4, 2: 2, 10: 1}\n",
      "weekday: {5: 2, 1: 7, 4: 4, 2: 7, 6: 4, 3: 4, 0: 2}\n"
     ]
    }
   ],
   "source": [
    "from collections import Counter\n",
    "from dateutil.parser import parse\n",
    "\n",
    "# Parsing dates\n",
    "dates = [parse(repo[\"created_at\"]) for repo in repos]\n",
    "\n",
    "#월별, 요일별 저장소 생성 개수 알아보기 \n",
    "month_counts = Counter(date.month for date in dates)\n",
    "weekday_counts = Counter(date.weekday() for date in dates)\n",
    "\n",
    "print(\"month:\", dict(month_counts))\n",
    "print(\"weekday:\", dict(weekday_counts))"
   ]
  },
  {
   "cell_type": "code",
   "execution_count": 7,
   "metadata": {},
   "outputs": [
    {
     "name": "stdout",
     "output_type": "stream",
     "text": [
      "['Python', 'Python', 'Python', 'Python', 'Jupyter Notebook']\n"
     ]
    }
   ],
   "source": [
    "last_5_repositories = sorted(repos, key=lambda r: r[\"created_at\"], reverse=True)[:5]\n",
    "\n",
    "last_5_languages = [repo[\"language\"] for repo in last_5_repositories]\n",
    "\n",
    "print(last_5_languages)"
   ]
  }
 ],
 "metadata": {
  "kernelspec": {
   "display_name": "Python 3",
   "language": "python",
   "name": "python3"
  },
  "language_info": {
   "codemirror_mode": {
    "name": "ipython",
    "version": 3
   },
   "file_extension": ".py",
   "mimetype": "text/x-python",
   "name": "python",
   "nbconvert_exporter": "python",
   "pygments_lexer": "ipython3",
   "version": "3.6.1"
  }
 },
 "nbformat": 4,
 "nbformat_minor": 2
}
